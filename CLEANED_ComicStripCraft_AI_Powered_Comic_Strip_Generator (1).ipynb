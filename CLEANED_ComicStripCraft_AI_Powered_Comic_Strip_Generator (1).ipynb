{
 "cells": [
  {
   "cell_type": "markdown",
   "metadata": {
    "id": "ZKX4DfW0TtQ6"
   },
   "source": [
    "# **Description**\n",
    "\n",
    "Create a system that generates comic strips from story prompts using image generation models and panel layout algorithms."
   ]
  },
  {
   "cell_type": "markdown",
   "metadata": {
    "id": "kpsAQXt7V9cI"
   },
   "source": [
    "Import necessary Modules."
   ]
  },
  {
   "cell_type": "code",
   "execution_count": 22,
   "metadata": {
    "colab": {
     "base_uri": "https://localhost:8080/"
    },
    "id": "ftZr3XC_WBx_",
    "outputId": "b67e142c-93b7-4318-ac7f-bab404b7c069"
   },
   "outputs": [
    {
     "name": "stdout",
     "output_type": "stream",
     "text": [
      "Requirement already satisfied: diffusers in /usr/local/lib/python3.11/dist-packages (0.33.1)\n",
      "Requirement already satisfied: transformers in /usr/local/lib/python3.11/dist-packages (4.52.4)\n",
      "Requirement already satisfied: accelerate in /usr/local/lib/python3.11/dist-packages (1.7.0)\n",
      "Requirement already satisfied: torch in /usr/local/lib/python3.11/dist-packages (2.6.0+cu124)\n",
      "Requirement already satisfied: torchvision in /usr/local/lib/python3.11/dist-packages (0.21.0+cu124)\n",
      "Requirement already satisfied: importlib-metadata in /usr/local/lib/python3.11/dist-packages (from diffusers) (8.7.0)\n",
      "Requirement already satisfied: filelock in /usr/local/lib/python3.11/dist-packages (from diffusers) (3.18.0)\n",
      "Requirement already satisfied: huggingface-hub>=0.27.0 in /usr/local/lib/python3.11/dist-packages (from diffusers) (0.33.0)\n",
      "Requirement already satisfied: numpy in /usr/local/lib/python3.11/dist-packages (from diffusers) (2.0.2)\n",
      "Requirement already satisfied: regex!=2019.12.17 in /usr/local/lib/python3.11/dist-packages (from diffusers) (2024.11.6)\n",
      "Requirement already satisfied: requests in /usr/local/lib/python3.11/dist-packages (from diffusers) (2.32.3)\n",
      "Requirement already satisfied: safetensors>=0.3.1 in /usr/local/lib/python3.11/dist-packages (from diffusers) (0.5.3)\n",
      "Requirement already satisfied: Pillow in /usr/local/lib/python3.11/dist-packages (from diffusers) (11.2.1)\n",
      "Requirement already satisfied: packaging>=20.0 in /usr/local/lib/python3.11/dist-packages (from transformers) (24.2)\n",
      "Requirement already satisfied: pyyaml>=5.1 in /usr/local/lib/python3.11/dist-packages (from transformers) (6.0.2)\n",
      "Requirement already satisfied: tokenizers<0.22,>=0.21 in /usr/local/lib/python3.11/dist-packages (from transformers) (0.21.1)\n",
      "Requirement already satisfied: tqdm>=4.27 in /usr/local/lib/python3.11/dist-packages (from transformers) (4.67.1)\n",
      "Requirement already satisfied: psutil in /usr/local/lib/python3.11/dist-packages (from accelerate) (5.9.5)\n",
      "Requirement already satisfied: typing-extensions>=4.10.0 in /usr/local/lib/python3.11/dist-packages (from torch) (4.14.0)\n",
      "Requirement already satisfied: networkx in /usr/local/lib/python3.11/dist-packages (from torch) (3.5)\n",
      "Requirement already satisfied: jinja2 in /usr/local/lib/python3.11/dist-packages (from torch) (3.1.6)\n",
      "Requirement already satisfied: fsspec in /usr/local/lib/python3.11/dist-packages (from torch) (2025.3.2)\n",
      "Requirement already satisfied: nvidia-cuda-nvrtc-cu12==12.4.127 in /usr/local/lib/python3.11/dist-packages (from torch) (12.4.127)\n",
      "Requirement already satisfied: nvidia-cuda-runtime-cu12==12.4.127 in /usr/local/lib/python3.11/dist-packages (from torch) (12.4.127)\n",
      "Requirement already satisfied: nvidia-cuda-cupti-cu12==12.4.127 in /usr/local/lib/python3.11/dist-packages (from torch) (12.4.127)\n",
      "Requirement already satisfied: nvidia-cudnn-cu12==9.1.0.70 in /usr/local/lib/python3.11/dist-packages (from torch) (9.1.0.70)\n",
      "Requirement already satisfied: nvidia-cublas-cu12==12.4.5.8 in /usr/local/lib/python3.11/dist-packages (from torch) (12.4.5.8)\n",
      "Requirement already satisfied: nvidia-cufft-cu12==11.2.1.3 in /usr/local/lib/python3.11/dist-packages (from torch) (11.2.1.3)\n",
      "Requirement already satisfied: nvidia-curand-cu12==10.3.5.147 in /usr/local/lib/python3.11/dist-packages (from torch) (10.3.5.147)\n",
      "Requirement already satisfied: nvidia-cusolver-cu12==11.6.1.9 in /usr/local/lib/python3.11/dist-packages (from torch) (11.6.1.9)\n",
      "Requirement already satisfied: nvidia-cusparse-cu12==12.3.1.170 in /usr/local/lib/python3.11/dist-packages (from torch) (12.3.1.170)\n",
      "Requirement already satisfied: nvidia-cusparselt-cu12==0.6.2 in /usr/local/lib/python3.11/dist-packages (from torch) (0.6.2)\n",
      "Requirement already satisfied: nvidia-nccl-cu12==2.21.5 in /usr/local/lib/python3.11/dist-packages (from torch) (2.21.5)\n",
      "Requirement already satisfied: nvidia-nvtx-cu12==12.4.127 in /usr/local/lib/python3.11/dist-packages (from torch) (12.4.127)\n",
      "Requirement already satisfied: nvidia-nvjitlink-cu12==12.4.127 in /usr/local/lib/python3.11/dist-packages (from torch) (12.4.127)\n",
      "Requirement already satisfied: triton==3.2.0 in /usr/local/lib/python3.11/dist-packages (from torch) (3.2.0)\n",
      "Requirement already satisfied: sympy==1.13.1 in /usr/local/lib/python3.11/dist-packages (from torch) (1.13.1)\n",
      "Requirement already satisfied: mpmath<1.4,>=1.1.0 in /usr/local/lib/python3.11/dist-packages (from sympy==1.13.1->torch) (1.3.0)\n",
      "Requirement already satisfied: hf-xet<2.0.0,>=1.1.2 in /usr/local/lib/python3.11/dist-packages (from huggingface-hub>=0.27.0->diffusers) (1.1.3)\n",
      "Requirement already satisfied: zipp>=3.20 in /usr/local/lib/python3.11/dist-packages (from importlib-metadata->diffusers) (3.23.0)\n",
      "Requirement already satisfied: MarkupSafe>=2.0 in /usr/local/lib/python3.11/dist-packages (from jinja2->torch) (3.0.2)\n",
      "Requirement already satisfied: charset-normalizer<4,>=2 in /usr/local/lib/python3.11/dist-packages (from requests->diffusers) (3.4.2)\n",
      "Requirement already satisfied: idna<4,>=2.5 in /usr/local/lib/python3.11/dist-packages (from requests->diffusers) (3.10)\n",
      "Requirement already satisfied: urllib3<3,>=1.21.1 in /usr/local/lib/python3.11/dist-packages (from requests->diffusers) (2.4.0)\n",
      "Requirement already satisfied: certifi>=2017.4.17 in /usr/local/lib/python3.11/dist-packages (from requests->diffusers) (2025.4.26)\n",
      "Requirement already satisfied: nltk in /usr/local/lib/python3.11/dist-packages (3.9.1)\n",
      "Requirement already satisfied: pillow in /usr/local/lib/python3.11/dist-packages (11.2.1)\n",
      "Requirement already satisfied: matplotlib in /usr/local/lib/python3.11/dist-packages (3.10.0)\n",
      "Requirement already satisfied: click in /usr/local/lib/python3.11/dist-packages (from nltk) (8.2.1)\n",
      "Requirement already satisfied: joblib in /usr/local/lib/python3.11/dist-packages (from nltk) (1.5.1)\n",
      "Requirement already satisfied: regex>=2021.8.3 in /usr/local/lib/python3.11/dist-packages (from nltk) (2024.11.6)\n",
      "Requirement already satisfied: tqdm in /usr/local/lib/python3.11/dist-packages (from nltk) (4.67.1)\n",
      "Requirement already satisfied: contourpy>=1.0.1 in /usr/local/lib/python3.11/dist-packages (from matplotlib) (1.3.2)\n",
      "Requirement already satisfied: cycler>=0.10 in /usr/local/lib/python3.11/dist-packages (from matplotlib) (0.12.1)\n",
      "Requirement already satisfied: fonttools>=4.22.0 in /usr/local/lib/python3.11/dist-packages (from matplotlib) (4.58.2)\n",
      "Requirement already satisfied: kiwisolver>=1.3.1 in /usr/local/lib/python3.11/dist-packages (from matplotlib) (1.4.8)\n",
      "Requirement already satisfied: numpy>=1.23 in /usr/local/lib/python3.11/dist-packages (from matplotlib) (2.0.2)\n",
      "Requirement already satisfied: packaging>=20.0 in /usr/local/lib/python3.11/dist-packages (from matplotlib) (24.2)\n",
      "Requirement already satisfied: pyparsing>=2.3.1 in /usr/local/lib/python3.11/dist-packages (from matplotlib) (3.2.3)\n",
      "Requirement already satisfied: python-dateutil>=2.7 in /usr/local/lib/python3.11/dist-packages (from matplotlib) (2.9.0.post0)\n",
      "Requirement already satisfied: six>=1.5 in /usr/local/lib/python3.11/dist-packages (from python-dateutil>=2.7->matplotlib) (1.17.0)\n"
     ]
    }
   ],
   "source": [
    "!pip install diffusers transformers accelerate torch torchvision\n",
    "!pip install nltk pillow matplotlib\n"
   ]
  },
  {
   "cell_type": "markdown",
   "metadata": {
    "id": "5fUhPyRdW4bd"
   },
   "source": [
    "Libraries"
   ]
  },
  {
   "cell_type": "code",
   "execution_count": 23,
   "metadata": {
    "id": "baTewrHeW5zP"
   },
   "outputs": [],
   "source": [
    "from nltk.tokenize import sent_tokenize\n",
    "import os\n",
    "from PIL import Image, ImageDraw, ImageFont\n",
    "import torch\n",
    "from diffusers import StableDiffusionPipeline"
   ]
  },
  {
   "cell_type": "code",
   "execution_count": 24,
   "metadata": {
    "id": "drN5SBtWXTLK"
   },
   "outputs": [],
   "source": [
    "story = \"\"\"\n",
    "Alex walks into the café and sees Lily.\n",
    "Alex: Hey Lily! Long time no see.\n",
    "Lily: Hi Alex! Yeah, it’s been a while.\n",
    "They sit and talk about old memories.\n",
    "\n",
    "Lily: Do you still play the guitar?\n",
    "Alex: Of course, every weekend.\n",
    "The barista interrupts their conversation.\n",
    "\"\"\"\n"
   ]
  },
  {
   "cell_type": "code",
   "execution_count": 25,
   "metadata": {
    "id": "_tklQOWEXWuw"
   },
   "outputs": [],
   "source": [
    "def parse_story_simple(story_text):\n",
    "    scenes = []\n",
    "    current_scene = {\"description\": \"\", \"dialogues\": []}\n",
    "\n",
    "    lines = [line.strip() for line in story_text.strip().split('\\n') if line.strip()]\n",
    "\n",
    "    for line in lines:\n",
    "        if ':' in line and line.split(':', 1)[0].isalpha():\n",
    "            speaker, speech = line.split(':', 1)\n",
    "            current_scene[\"dialogues\"].append({\n",
    "                \"character\": speaker.strip(),\n",
    "                \"line\": speech.strip()\n",
    "            })\n",
    "        else:\n",
    "            if current_scene[\"description\"] or current_scene[\"dialogues\"]:\n",
    "                scenes.append(current_scene)\n",
    "                current_scene = {\"description\": \"\", \"dialogues\": []}\n",
    "            current_scene[\"description\"] = line.strip()\n",
    "\n",
    "    if current_scene[\"description\"] or current_scene[\"dialogues\"]:\n",
    "        scenes.append(current_scene)\n",
    "\n",
    "    return scenes\n"
   ]
  },
  {
   "cell_type": "markdown",
   "metadata": {
    "id": "pgpOdQJVXcWn"
   },
   "source": [
    "Testing it"
   ]
  },
  {
   "cell_type": "code",
   "execution_count": 26,
   "metadata": {
    "colab": {
     "base_uri": "https://localhost:8080/"
    },
    "id": "cxlR-c7gXYuJ",
    "outputId": "a5ce5b53-c2b7-411f-a473-1ff95eae67bc"
   },
   "outputs": [
    {
     "name": "stdout",
     "output_type": "stream",
     "text": [
      "\n",
      "📘 Scene 1\n",
      "📝 Description: Alex walks into the café and sees Lily.\n",
      "💬 Dialogues:\n",
      "  - Alex: Hey Lily! Long time no see.\n",
      "  - Lily: Hi Alex! Yeah, it’s been a while.\n",
      "\n",
      "📘 Scene 2\n",
      "📝 Description: They sit and talk about old memories.\n",
      "💬 Dialogues:\n",
      "  - Lily: Do you still play the guitar?\n",
      "  - Alex: Of course, every weekend.\n",
      "\n",
      "📘 Scene 3\n",
      "📝 Description: The barista interrupts their conversation.\n",
      "💬 Dialogues:\n"
     ]
    }
   ],
   "source": [
    "scenes = parse_story_simple(story)\n",
    "for i, scene in enumerate(scenes):\n",
    "    print(f\"\\n📘 Scene {i+1}\")\n",
    "    print(\"📝 Description:\", scene['description'])\n",
    "    print(\"💬 Dialogues:\")\n",
    "    for d in scene['dialogues']:\n",
    "        print(f\"  - {d['character']}: {d['line']}\")\n"
   ]
  },
  {
   "cell_type": "code",
   "execution_count": 27,
   "metadata": {
    "id": "e0GMWT6zXgex"
   },
   "outputs": [],
   "source": [
    "# Define consistent visual styles per character\n",
    "character_prompts = {\n",
    "    \"Alex\": \"young man with spiky hair wearing a red hoodie, comic book style\",\n",
    "    \"Lily\": \"young woman with long black hair and a blue dress, comic book style\",\n",
    "    \"Barista\": \"middle-aged man with an apron and a friendly smile, comic book style\"\n",
    "}\n"
   ]
  },
  {
   "cell_type": "code",
   "execution_count": 28,
   "metadata": {
    "id": "_W1LgvNKXvH0"
   },
   "outputs": [],
   "source": [
    "def get_style_prompt(style=\"comic\"):\n",
    "    style_dict = {\n",
    "        \"comic\": \"comic book, inked lines, halftone shadow\",\n",
    "        \"anime\": \"anime style, colorful, clean lines\",\n",
    "        \"pencil\": \"pencil sketch, hand drawn, grayscale\"\n",
    "    }\n",
    "    return style_dict.get(style, \"\")\n"
   ]
  },
  {
   "cell_type": "code",
   "execution_count": 29,
   "metadata": {
    "colab": {
     "base_uri": "https://localhost:8080/",
     "height": 49,
     "referenced_widgets": [
      "cb7ff624f9cb49469d81c91fd75b2e44",
      "f9abca4c960d49e29ac6f22332188c89",
      "db620b97cd98498c94410b819d6ffb60",
      "7668e045efc74bffad5f7e7b1be2adc6",
      "4094d605d3904233a235ff5e450478c5",
      "d541223a86e3419c80bdb5f515844600",
      "39467954d18044129fcb60713c490c78",
      "c970d6edc8fe45a89890886b76d02a16",
      "1a426129cb074aa4ad40fa0a67fabf26",
      "2de2579e197e4adf9852114ede7a942f",
      "bf0f16fed1d9451db0958803c58ef5db"
     ]
    },
    "id": "E_-HAOhiXwTs",
    "outputId": "145e559e-88a6-4c1e-e162-ff6ff4ad9e65"
   },
   "outputs": [
    {
     "data": {
      "application/vnd.jupyter.widget-view+json": {
       "model_id": "cb7ff624f9cb49469d81c91fd75b2e44",
       "version_major": 2,
       "version_minor": 0
      },
      "text/plain": [
       "Loading pipeline components...:   0%|          | 0/7 [00:00<?, ?it/s]"
      ]
     },
     "metadata": {},
     "output_type": "display_data"
    }
   ],
   "source": [
    "from diffusers import StableDiffusionPipeline\n",
    "import torch\n",
    "\n",
    "# Load the model (first time might take a few minutes)\n",
    "pipe = StableDiffusionPipeline.from_pretrained(\"CompVis/stable-diffusion-v1-4\", torch_dtype=torch.float16)\n",
    "pipe = pipe.to(\"cuda\")\n"
   ]
  },
  {
   "cell_type": "code",
   "execution_count": 9,
   "metadata": {
    "id": "f3olPDjdYEW9"
   },
   "outputs": [],
   "source": [
    "def generate_image(scene_description, characters, style=\"comic\", filename=\"scene.png\"):\n",
    "    char_prompt = \", \".join([character_prompts.get(c, \"\") for c in characters if c in character_prompts])\n",
    "    prompt = f\"{scene_description}, {char_prompt}, {get_style_prompt(style)}\"\n",
    "    image = pipe(prompt).images[0]\n",
    "    image.save(filename)\n",
    "    return filename\n"
   ]
  },
  {
   "cell_type": "code",
   "execution_count": 13,
   "metadata": {
    "id": "7jVpgCtAcuBu"
   },
   "outputs": [],
   "source": [
    "def add_dialog(image_path, dialogues, output_path=\"panel.png\"):\n",
    "    img = Image.open(image_path).convert(\"RGB\")\n",
    "    draw = ImageDraw.Draw(img)\n",
    "    font = ImageFont.load_default()\n",
    "\n",
    "    y_text = 10\n",
    "    for dialog in dialogues:\n",
    "        text = f\"{dialog['character']}: {dialog['line']}\"\n",
    "        draw.text((10, y_text), text, font=font, fill=\"black\")\n",
    "        y_text += 30\n",
    "\n",
    "    img.save(output_path)\n",
    "    return output_path\n"
   ]
  },
  {
   "cell_type": "code",
   "execution_count": 12,
   "metadata": {
    "id": "mSFOY0-Tcxyu"
   },
   "outputs": [],
   "source": [
    "def generate_comic(story_text, output_dir=\"comic_output\", style=\"comic\"):\n",
    "    os.makedirs(output_dir, exist_ok=True)\n",
    "    scenes = parse_story_simple(story_text)\n",
    "    comic_panels = []\n",
    "\n",
    "    for i, scene in enumerate(scenes):\n",
    "        characters = list({d['character'] for d in scene['dialogues']})\n",
    "        desc = scene['description']\n",
    "        raw_img = generate_image(desc, characters, style=style, filename=f\"{output_dir}/scene_{i}.png\")\n",
    "        final_img = add_dialog(raw_img, scene['dialogues'], output_path=f\"{output_dir}/panel_{i}.png\")\n",
    "        comic_panels.append(final_img)\n",
    "\n",
    "    return comic_panels\n"
   ]
  },
  {
   "cell_type": "code",
   "execution_count": 14,
   "metadata": {
    "id": "DzqS5VxDc--j"
   },
   "outputs": [],
   "source": [
    "def create_comic_page(panels, grid_size=(2, 2), output_file=\"comic_page.png\"):\n",
    "    imgs = [Image.open(p) for p in panels]\n",
    "    w, h = imgs[0].size\n",
    "    grid_w, grid_h = grid_size\n",
    "\n",
    "    comic_page = Image.new(\"RGB\", (grid_w * w, grid_h * h), color=\"white\")\n",
    "\n",
    "    for index, img in enumerate(imgs):\n",
    "        x = (index % grid_w) * w\n",
    "        y = (index // grid_w) * h\n",
    "        comic_page.paste(img, (x, y))\n",
    "\n",
    "    comic_page.save(output_file)\n",
    "    return output_file\n"
   ]
  },
  {
   "cell_type": "code",
   "execution_count": 15,
   "metadata": {
    "colab": {
     "base_uri": "https://localhost:8080/",
     "height": 132,
     "referenced_widgets": [
      "564c2b8e995546eab335f05157e98e53",
      "3e3f5446cb3540d2874bfc17004f3c13",
      "6a6b02128fb94b91b36f771b73ef3ac1",
      "080b8cc42d87487cb1b49d7a27243629",
      "f425566fbf9b49b3b39b0308e05ba96b",
      "18df250b67d04246854b56677ad0f9e5",
      "50f6c747afa44f74babde1cf1d4fd79c",
      "cd8865975e32461d903782fd972c1429",
      "6acb94d5d5274c328bb88aa3f5ae429f",
      "e1c378f6b00645da8d380bb9eb70adf2",
      "66607267a7fa48668706e04320c0f7d7",
      "4c3fd3d2004743c8bf4ce9ea7f15a3dd",
      "d833029834084684a092a66ef2dda569",
      "a10f1836d54746e181a5fb5a064dd62c",
      "004567945c9644d58450514458cd3489",
      "18cfb027de9d41ebb89ea24c47cd2b01",
      "c4ff309173d3400aa8338486a5d369f0",
      "048ec92673184c209c42c4e3429d3469",
      "05b34667209243b28a783ca63b3f8a68",
      "4fb94433ba5d42e1a0630a773f0fb42c",
      "b06214b9b063467e8a2f6fad45f7d2a0",
      "975ba13e48cd4cfeaac906163ee6e5f1",
      "3e997bc540364fc49ca15d2ae51a68e7",
      "ed0b134840c94ae5a6d140b494769f79",
      "00deb73d07324324ae51ba76bf973e03",
      "6a159e013f3e47439857328c4d6ed3fd",
      "3d6cd829b59b4a5eaa73b6878eee117d",
      "c03ba694859e4cfc9521daabfdd357b7",
      "92ffd6fc32cf4993b3992f67d11a00be",
      "8c7c8abdd93a44eb87b39f23f05804f6",
      "c6cabcc705a84e35b0f3dac05e51ff41",
      "2faeaf84bef84f80a25ffcdc219abe35",
      "04d49a6bd3cd419a97cbdf7cc105767c"
     ]
    },
    "id": "vQFhqdKUdEmw",
    "outputId": "8c0ffc53-2322-4040-868c-b564eccf55a1"
   },
   "outputs": [
    {
     "data": {
      "application/vnd.jupyter.widget-view+json": {
       "model_id": "564c2b8e995546eab335f05157e98e53",
       "version_major": 2,
       "version_minor": 0
      },
      "text/plain": [
       "  0%|          | 0/50 [00:00<?, ?it/s]"
      ]
     },
     "metadata": {},
     "output_type": "display_data"
    },
    {
     "data": {
      "application/vnd.jupyter.widget-view+json": {
       "model_id": "4c3fd3d2004743c8bf4ce9ea7f15a3dd",
       "version_major": 2,
       "version_minor": 0
      },
      "text/plain": [
       "  0%|          | 0/50 [00:00<?, ?it/s]"
      ]
     },
     "metadata": {},
     "output_type": "display_data"
    },
    {
     "data": {
      "application/vnd.jupyter.widget-view+json": {
       "model_id": "3e997bc540364fc49ca15d2ae51a68e7",
       "version_major": 2,
       "version_minor": 0
      },
      "text/plain": [
       "  0%|          | 0/50 [00:00<?, ?it/s]"
      ]
     },
     "metadata": {},
     "output_type": "display_data"
    },
    {
     "data": {
      "application/vnd.google.colaboratory.intrinsic+json": {
       "type": "string"
      },
      "text/plain": [
       "'final_comic_page.png'"
      ]
     },
     "execution_count": 15,
     "metadata": {},
     "output_type": "execute_result"
    }
   ],
   "source": [
    "story = \"\"\"\n",
    "Alex walks into the café and sees Lily.\n",
    "Alex: Hey Lily! Long time no see.\n",
    "Lily: Hi Alex! Yeah, it’s been a while.\n",
    "They sit and talk about old memories.\n",
    "\n",
    "Lily: Do you still play the guitar?\n",
    "Alex: Of course, every weekend.\n",
    "The barista interrupts their conversation.\n",
    "\"\"\"\n",
    "\n",
    "panels = generate_comic(story, style=\"comic\")\n",
    "create_comic_page(panels, grid_size=(2, 2), output_file=\"final_comic_page.png\")\n"
   ]
  },
  {
   "cell_type": "code",
   "execution_count": 16,
   "metadata": {
    "colab": {
     "base_uri": "https://localhost:8080/",
     "height": 81,
     "referenced_widgets": [
      "306e0a370002408b8e9ba7c084610548",
      "80520210d0454ed4b4743d2ef7422ff2",
      "a6d19f6b511a40c0be5ade5c101c8bbb",
      "403237a097964abcb451a53c20467a0b",
      "0a12fd63f7c34efdbb9e08c78f294b11",
      "56ecd13dac304dbf9db0f8bf4600a202",
      "b2d53c001ef042ff901d881f1053c1bc",
      "fb7ea8ef3dff4b2889a56a9bf7948cc5",
      "d46f15440b7c472795642f3333e1e654",
      "776280eb6c7842f9820853725a582ed2",
      "efb4f2aeb5ee413583e4081dc93a1c26",
      "d0ccdf983d3b4693aa5c318828f10f82",
      "104a007b5e2f4fac84f108174e15bae3",
      "57d5005962b242da90ed01d130bd19b8",
      "598115b855fd4a41b61ee92d1b75a0cd",
      "8e0e2250084d46f08e879fc1762b8f5d",
      "2b39e77d60bd451c8fecf6dacd027943",
      "b7d3468b090842d78f67f7561c2fa659",
      "ef7dcfce633d41d3a7b22d19089daacc",
      "1e493375779041668d6eb0dd46971d55",
      "20b3833243f24e1bad5e6ea053890d65",
      "ad72ed4788374f9a844a17c3b2cdf125"
     ]
    },
    "id": "PXR5lJi9dJJy",
    "outputId": "2f805fd0-197e-43fe-b3c2-63a0d7eec723"
   },
   "outputs": [
    {
     "data": {
      "application/vnd.jupyter.widget-view+json": {
       "model_id": "306e0a370002408b8e9ba7c084610548",
       "version_major": 2,
       "version_minor": 0
      },
      "text/plain": [
       "  0%|          | 0/50 [00:00<?, ?it/s]"
      ]
     },
     "metadata": {},
     "output_type": "display_data"
    },
    {
     "data": {
      "application/vnd.jupyter.widget-view+json": {
       "model_id": "d0ccdf983d3b4693aa5c318828f10f82",
       "version_major": 2,
       "version_minor": 0
      },
      "text/plain": [
       "  0%|          | 0/50 [00:00<?, ?it/s]"
      ]
     },
     "metadata": {},
     "output_type": "display_data"
    }
   ],
   "source": [
    "sample_stories = [\n",
    "    \"Alex enters the forest and hears strange whispers...\\nAlex: What was that?\\nLily: I heard it too!\",\n",
    "    \"Lily opens a magical book.\\nLily: Wow, this looks ancient.\\nAlex: Be careful with that!\",\n",
    "    # ... Add 8 more\n",
    "]\n",
    "\n",
    "for idx, s in enumerate(sample_stories):\n",
    "    panels = generate_comic(s, output_dir=f\"comic_output_{idx}\")\n",
    "    create_comic_page(panels, output_file=f\"comic_page_{idx}.png\")\n"
   ]
  },
  {
   "cell_type": "code",
   "execution_count": 17,
   "metadata": {
    "colab": {
     "base_uri": "https://localhost:8080/",
     "height": 49,
     "referenced_widgets": [
      "d2c80eac8d304a1597680aaab96e3b24",
      "48016066704c4582ab7f5450b5c8d7b5",
      "cd5ba47a47924a3a8a973acffbe02eb3",
      "f6a230d0cafb4e71b4930912334eff3a",
      "fcc36c5f6da84d07a79ad5569b84a0b0",
      "6a711bb9a8b549e1a1a6fe3c5a47cbd9",
      "c1fd52670d8e4ff9816d7868db24d0f6",
      "0a2f601a910142e7987ac1a476d0ca41",
      "e86ff63e1bbc4ad69e7a544a42bbd30a",
      "b8f3fc149b1e40b8a72f3a2038ef4728",
      "74571e9cd9e1470ca1a7fe4710a601f9"
     ]
    },
    "id": "WeorqRnud4Nd",
    "outputId": "4ebc04f9-3063-41ac-ca57-afaab77c307f"
   },
   "outputs": [
    {
     "data": {
      "application/vnd.jupyter.widget-view+json": {
       "model_id": "d2c80eac8d304a1597680aaab96e3b24",
       "version_major": 2,
       "version_minor": 0
      },
      "text/plain": [
       "Loading pipeline components...:   0%|          | 0/7 [00:00<?, ?it/s]"
      ]
     },
     "metadata": {},
     "output_type": "display_data"
    }
   ],
   "source": [
    "from diffusers import StableDiffusionPipeline\n",
    "import torch\n",
    "\n",
    "# Use float32 for CPU-based generation\n",
    "pipe = StableDiffusionPipeline.from_pretrained(\"CompVis/stable-diffusion-v1-4\", torch_dtype=torch.float32)\n",
    "pipe = pipe.to(\"cpu\")\n"
   ]
  },
  {
   "cell_type": "code",
   "execution_count": 18,
   "metadata": {
    "id": "eSBPNLFBd6C-"
   },
   "outputs": [],
   "source": [
    "sample_stories = [\n",
    "    \"Lily opens a magical door.\\nLily: What is this place?\\nAlex: It's... beautiful.\",\n",
    "    \"Alex sees a strange figure in the alley.\\nAlex: Who are you?\\nFigure: Someone who knows too much.\",\n",
    "    \"Lily finds a mysterious book.\\nLily: I think this belonged to a wizard.\",\n",
    "    \"Alex and Lily are on a rooftop at sunset.\\nAlex: It’s perfect up here.\\nLily: Just like old times.\",\n",
    "    \"A portal opens in the sky.\\nLily: We’re too late!\\nAlex: Get ready to jump!\",\n",
    "    \"They argue during a storm.\\nLily: You never told me the truth!\\nAlex: I was trying to protect you.\",\n",
    "    \"They hide from patrolling robots.\\nAlex: Stay low.\\nLily: They’re scanning everything.\",\n",
    "    \"They meet a talking cat.\\nCat: Welcome to the city of mirrors.\\nLily: Did… that cat just talk?\",\n",
    "    \"In a forest glowing at night.\\nLily: This place feels alive.\\nAlex: It’s full of magic.\",\n",
    "    \"They sit by a campfire after the battle.\\nAlex: We survived.\\nLily: But at what cost?\"\n",
    "]\n"
   ]
  },
  {
   "cell_type": "code",
   "execution_count": 30,
   "metadata": {
    "colab": {
     "base_uri": "https://localhost:8080/",
     "height": 113,
     "referenced_widgets": [
      "1bc73bb077ee47cc9d43c8847a139991",
      "4fbb64b54b3648fdb6b7bb904126a38e",
      "d5b0e400ace04a24b6d6c08128f34bec",
      "46b81ddb24124cf8a515ea8238231ae5",
      "2cc3557858a842638d0fb9939948249a",
      "7e764372c63844f890c9d93242400b4f",
      "4ddb39e1db5d40458aa58bf3a83754fc",
      "38ab2159c7a04a608e0f80a109f4bdeb",
      "f28d9aa3b3044ae8a7448f8568f90fe8",
      "382b5f0f45fd4326b936204529c2c915",
      "5400f5c797484c08b4a0f90d102acb8c",
      "3b7bee4065e74787b238ca3506b5170a",
      "bb344a70d12a4c588d1c17ddb74d3f8e",
      "729a2dbf1aef47cbade9cb1c00d8ffb4",
      "4cbb30be59b64e038e07981ea71a40ae",
      "5624fdbaaf0e43449496ed21bedb4c33",
      "dbc1b916577142d4b849d1f895e5424f",
      "b413d25726ef455fbf3c39630a0c2cd7",
      "dff21364675645bbad4cc5f77e1bc58c",
      "a7c75c737c1d41ba9521e9c7459f7703",
      "c8a8eb7d0684495385b6a8d80c5cd07a",
      "dd8b5f737dda46e5bc2f7e246618b7bf",
      "02a31ade409949d6828cff1fa7a493f4",
      "0c12fafd32ab4f59aa34ed0347bc9542",
      "e94f88013efa4cb6ac93983aeeac4a52",
      "08e40f92818c4e24a84a9757dac7f156",
      "c9d78b8ff7aa452e97f9c647c23f5823",
      "365e070daabc4c4d847bf2215e05752b",
      "c328945d77cf43bb88650dbc6ec5eedb",
      "ad66892b5d9641248d78d01c2d7ad91d",
      "55f2bdfa9f9f44d4bd947556b960add4",
      "379a6f8730f64dc99863fcb96ee01fd5",
      "e9365de3eb6b4343bb68b68fdaed42d2"
     ]
    },
    "id": "n-0b9uG9eEcs",
    "outputId": "dab6152d-8916-4381-811d-e7103a28716f"
   },
   "outputs": [
    {
     "data": {
      "application/vnd.jupyter.widget-view+json": {
       "model_id": "1bc73bb077ee47cc9d43c8847a139991",
       "version_major": 2,
       "version_minor": 0
      },
      "text/plain": [
       "  0%|          | 0/50 [00:00<?, ?it/s]"
      ]
     },
     "metadata": {},
     "output_type": "display_data"
    },
    {
     "data": {
      "application/vnd.jupyter.widget-view+json": {
       "model_id": "3b7bee4065e74787b238ca3506b5170a",
       "version_major": 2,
       "version_minor": 0
      },
      "text/plain": [
       "  0%|          | 0/50 [00:00<?, ?it/s]"
      ]
     },
     "metadata": {},
     "output_type": "display_data"
    },
    {
     "data": {
      "application/vnd.jupyter.widget-view+json": {
       "model_id": "02a31ade409949d6828cff1fa7a493f4",
       "version_major": 2,
       "version_minor": 0
      },
      "text/plain": [
       "  0%|          | 0/50 [00:00<?, ?it/s]"
      ]
     },
     "metadata": {},
     "output_type": "display_data"
    }
   ],
   "source": [
    "styles = [\"comic\", \"anime\", \"pencil\"]\n",
    "desc = \"Alex and Lily standing on a cliff, watching a dragon in the sky.\"\n",
    "chars = [\"Alex\", \"Lily\"]\n",
    "\n",
    "from PIL import Image\n",
    "\n",
    "style_imgs = []\n",
    "for style in styles:\n",
    "    img_path = generate_image(desc, chars, style=style, filename=f\"comics/style_{style}.png\")\n",
    "    style_imgs.append(Image.open(img_path))\n",
    "\n",
    "# Combine and save\n",
    "style_guide = Image.new(\"RGB\", (len(style_imgs) * 512, 512), \"white\")\n",
    "for i, img in enumerate(style_imgs):\n",
    "    style_guide.paste(img, (i * 512, 0))\n",
    "\n",
    "style_guide.save(\"style_guide.png\")\n"
   ]
  },
  {
   "cell_type": "code",
   "execution_count": 31,
   "metadata": {
    "colab": {
     "base_uri": "https://localhost:8080/",
     "height": 113,
     "referenced_widgets": [
      "afc569e89e514055aba7b676ed603df5",
      "d207b83a5a0a4aa3a66444ab60290d9c",
      "21720b191e67444ebb0dea9d6cd3588a",
      "c18e39b1240d4f5b8e79d4548c764bde",
      "38330fa5a11f4737a0ed537451cacb72",
      "b5bd06a12a4e416ab8ae492c34720ba1",
      "38b5d034c976418f882c21b226570bc7",
      "66822fac142c4eb59dca8b906566f679",
      "027404540567478cbe4be1b3d7857ba9",
      "ab2ce772f7664b919bedc3f289e677ac",
      "a3f9ac8a45f54846a71fe85458681050",
      "e3965011510941e9af27cda51dbc62de",
      "f8a92708dbb74779ad7248bcf535f1c3",
      "7ee095dbfad44ae0a9b77e4862958a4d",
      "1eb0c53836664b6fa4d749ce35589215",
      "e19150d358ea4424a4d2c7bac54391dc",
      "091e812a990641feb685a466faaa2be4",
      "c0dfae005c724fe386d7b29f7b674916",
      "af845742bb424ee090a20b5d0c76bc78",
      "f0f68c06c7854edeb43281c481af53d9",
      "80c301fa8e074856ae8bcd66144057ff",
      "74c6e6c538884e3cbbd98a0e330e12f0",
      "867437b63f51405d9a9a4c2b2b639ae5",
      "7e4a3028ea134d668f2337b6ba620c75",
      "6e094233e7994f6a9582ea2625b3b75c",
      "b3c81345497c4763aa9a1b71c290f748",
      "c39864a0ea56478ca088029f43c6faf1",
      "97ae598ab6c843b3b1c74a91ef83b846",
      "c73a0a71b1eb4fbb99f1be33caee6115",
      "c243414927984fc687e56e3a66ffcb6d",
      "9e8c92a9d503479abbe92f2bcf8aefdf",
      "293315d692f84a549c257df3cb903a1b",
      "fef2921303514ae395433b5aaef3493f"
     ]
    },
    "id": "J6osISyWf3G1",
    "outputId": "621b31bf-b243-49c2-bb96-dec3c4a506b0"
   },
   "outputs": [
    {
     "data": {
      "application/vnd.jupyter.widget-view+json": {
       "model_id": "afc569e89e514055aba7b676ed603df5",
       "version_major": 2,
       "version_minor": 0
      },
      "text/plain": [
       "  0%|          | 0/50 [00:00<?, ?it/s]"
      ]
     },
     "metadata": {},
     "output_type": "display_data"
    },
    {
     "data": {
      "application/vnd.jupyter.widget-view+json": {
       "model_id": "e3965011510941e9af27cda51dbc62de",
       "version_major": 2,
       "version_minor": 0
      },
      "text/plain": [
       "  0%|          | 0/50 [00:00<?, ?it/s]"
      ]
     },
     "metadata": {},
     "output_type": "display_data"
    },
    {
     "data": {
      "application/vnd.jupyter.widget-view+json": {
       "model_id": "867437b63f51405d9a9a4c2b2b639ae5",
       "version_major": 2,
       "version_minor": 0
      },
      "text/plain": [
       "  0%|          | 0/50 [00:00<?, ?it/s]"
      ]
     },
     "metadata": {},
     "output_type": "display_data"
    }
   ],
   "source": [
    "test_scenes = [\n",
    "    \"Alex reading a newspaper in a cafe\",\n",
    "    \"Alex walking in the rain\",\n",
    "    \"Alex running from a shadow\"\n",
    "]\n",
    "\n",
    "char_consistency = []\n",
    "\n",
    "for i, scene in enumerate(test_scenes):\n",
    "    img_path = generate_image(scene, [\"Alex\"], filename=f\"comics/consistency_alex_{i}.png\")\n",
    "    char_consistency.append(Image.open(img_path))\n",
    "\n",
    "# Combine\n",
    "consistency_panel = Image.new(\"RGB\", (len(char_consistency) * 512, 512), \"white\")\n",
    "for i, img in enumerate(char_consistency):\n",
    "    consistency_panel.paste(img, (i * 512, 0))\n",
    "\n",
    "consistency_panel.save(\"character_consistency.png\")\n"
   ]
  },
  {
   "cell_type": "code",
   "execution_count": 44,
   "metadata": {
    "colab": {
     "base_uri": "https://localhost:8080/"
    },
    "id": "k6zfJD9om6Ol",
    "outputId": "c9049beb-5ed4-4a3d-a975-220faff1f722"
   },
   "outputs": [
    {
     "name": "stdout",
     "output_type": "stream",
     "text": [
      "✅ Exists: True\n",
      "✅ Comic saved at: /content/final_comic_page.png\n"
     ]
    }
   ],
   "source": [
    "import os\n",
    "from PIL import Image\n",
    "\n",
    "# Verify file path\n",
    "image_path = \"/content/final_comic_page.png\"\n",
    "print(\"✅ Exists:\", os.path.exists(image_path))  # Should print True\n",
    "\n",
    "# Define the layout function\n",
    "def create_multi_panel_layout(image_paths, layout=\"2x2\", output_path=\"/content/final_comic_page.png\", padding=10, bg_color=\"white\"):\n",
    "    cols, rows = map(int, layout.split(\"x\"))\n",
    "    images = [Image.open(p).convert(\"RGBA\") for p in image_paths if os.path.exists(p)]\n",
    "\n",
    "    if not images:\n",
    "        raise ValueError(\"❌ No valid images found. Please check file paths.\")\n",
    "\n",
    "    min_width = min(img.width for img in images)\n",
    "    min_height = min(img.height for img in images)\n",
    "    resized = [img.resize((min_width, min_height)) for img in images]\n",
    "\n",
    "    grid_width = cols * min_width + (cols + 1) * padding\n",
    "    grid_height = rows * min_height + (rows + 1) * padding\n",
    "    comic_grid = Image.new(\"RGBA\", (grid_width, grid_height), color=bg_color)\n",
    "\n",
    "    for idx, img in enumerate(resized):\n",
    "        if idx >= cols * rows:\n",
    "            break\n",
    "        col = idx % cols\n",
    "        row = idx // cols\n",
    "        x = padding + col * (min_width + padding)\n",
    "        y = padding + row * (min_height + padding)\n",
    "        comic_grid.paste(img, (x, y))\n",
    "\n",
    "    comic_grid.save(output_path)\n",
    "    print(f\"✅ Comic saved at: {output_path}\")\n",
    "    return comic_grid\n",
    "\n",
    "# Use the correct verified path\n",
    "create_multi_panel_layout(\n",
    "    [image_path] * 4,\n",
    "    layout=\"2x2\",\n",
    "    output_path=\"/content/final_comic_page.png\"\n",
    ").show()\n"
   ]
  },
  {
   "cell_type": "code",
   "execution_count": 45,
   "metadata": {
    "id": "t-xWFxmToT7A"
   },
   "outputs": [],
   "source": [
    "from PIL import Image, ImageDraw, ImageFont\n",
    "\n",
    "def create_character_consistency_demo(character_images, labels, output_path=\"/content/final_comic_page.png\", spacing=20, font_size=24):\n",
    "    images = [Image.open(img_path).convert(\"RGBA\") for img_path in character_images]\n",
    "    widths, heights = zip(*(img.size for img in images))\n",
    "\n",
    "    total_width = sum(widths) + spacing * (len(images) - 1)\n",
    "    max_height = max(heights) + font_size + 10\n",
    "\n",
    "    combined = Image.new(\"RGBA\", (total_width, max_height), (255, 255, 255, 255))\n",
    "    draw = ImageDraw.Draw(combined)\n",
    "\n",
    "    try:\n",
    "        font = ImageFont.truetype(\"arial.ttf\", font_size)\n",
    "    except:\n",
    "        font = ImageFont.load_default()\n",
    "\n",
    "    x_offset = 0\n",
    "    for i, img in enumerate(images):\n",
    "        combined.paste(img, (x_offset, 0))\n",
    "        draw.text((x_offset, img.height + 5), labels[i], fill=\"black\", font=font)\n",
    "        x_offset += img.width + spacing\n",
    "\n",
    "    combined.save(output_path)\n",
    "    return combined\n",
    "\n",
    "# Example use\n",
    "create_character_consistency_demo(\n",
    "    [\"/content/final_comic_page.png\"] * 3,\n",
    "    [\"Scene 1\", \"Scene 2\", \"Scene 3\"]\n",
    ").show()\n"
   ]
  },
  {
   "cell_type": "code",
   "execution_count": 47,
   "metadata": {
    "id": "02ALf_Sto15M"
   },
   "outputs": [],
   "source": [
    "style_guide_content = \"\"\"\n",
    "Comic Strip Generator – Style Guide\n",
    "===================================\n",
    "\n",
    "🎨 Art Style Variations:\n",
    "- Noir sketch (black and white, high contrast)\n",
    "- Manga style (clean lines, exaggerated expressions)\n",
    "- Watercolor fantasy (soft colors, painted look)\n",
    "\n",
    "🎨 Color Schemes:\n",
    "- Pastel for romantic/light scenes\n",
    "- Monochrome for dramatic/serious scenes\n",
    "- Neon/high contrast for sci-fi/action\n",
    "\n",
    "🔤 Font Choices:\n",
    "- Comic Sans MS for light-hearted panels\n",
    "- Bangers/Action Man for action/sound FX\n",
    "- Open Sans or Arial for neutral narrative/dialog\n",
    "\n",
    "📐 Panel Layouts:\n",
    "- 2x2 grid for short dialogues or story fragments\n",
    "- 3x1 horizontal strip for fast-paced action\n",
    "- 1x3 vertical scroll for mobile/web format\n",
    "\n",
    "📌 Character Consistency:\n",
    "- Use prompt templates with same keywords (\"Alex, teen adventurer, brown hair, goggles\")\n",
    "- Maintain proportions and face shape per character\n",
    "\n",
    "✅ Tips:\n",
    "- Use consistent lighting and background elements\n",
    "- Repeat key costume features\n",
    "- Use same font per scene\n",
    "\"\"\"\n",
    "with open(\"/content/style_guide.png\", \"w\") as f:\n",
    "    f.write(style_guide_content)\n"
   ]
  },
  {
   "cell_type": "code",
   "execution_count": 49,
   "metadata": {
    "id": "bGYnnvRipIJ2"
   },
   "outputs": [],
   "source": [
    "from datetime import datetime\n",
    "\n",
    "readme_content = f\"\"\"\n",
    "# Comic Strip Generator 📚🎨\n",
    "\n",
    "This project generates comic strips from story prompts using AI image models and layout algorithms.\n",
    "\n",
    "## Features Implemented\n",
    "✅ Script parsing\n",
    "✅ Scene breakdown\n",
    "✅ Character consistency\n",
    "✅ Dialog extraction\n",
    "✅ Image generation (Stable Diffusion-compatible)\n",
    "✅ Panel layout (2x2, 3x1, etc.)\n",
    "✅ Speech bubble placement\n",
    "✅ Style customization (color, font, layout)\n",
    "✅ Character consistency strip\n",
    "✅ Multi-panel composition\n",
    "\n",
    "## How to Use\n",
    "1. Upload story prompt or comic scene\n",
    "2. Choose art style, layout, font\n",
    "3. Generate each panel\n",
    "4. Assemble final comic with layout function\n",
    "5. Add speech bubbles\n",
    "6. Save comic to image or ZIP\n",
    "\n",
    "## Output Samples\n",
    "- `style_comic.png`: Original character panel\n",
    "- `comic_with_speechbubble.png`: With dialog bubble\n",
    "- `multipanel_output.png`: 2x2 layout\n",
    "- `character_consistency.png`: Visual consistency\n",
    "- `style_guide.txt`: Art + formatting guidelines\n",
    "\n",
    "## Tools Used\n",
    "- Python 3.8+\n",
    "- PIL (Pillow)\n",
    "- Diffusers / Stable Diffusion\n",
    "- Google Colab\n",
    "\n",
    "*Generated on: {datetime.now().strftime(\"%Y-%m-%d %H:%M\")}, ready for submission.*\n",
    "\"\"\"\n",
    "with open(\"/content/style_guide.png\", \"w\") as f:\n",
    "    f.write(readme_content)\n"
   ]
  },
  {
   "cell_type": "code",
   "execution_count": 52,
   "metadata": {
    "colab": {
     "base_uri": "https://localhost:8080/",
     "height": 89
    },
    "id": "h_aSEJBM0GQD",
    "outputId": "0d94b171-452c-45ad-c371-03b6cd57896b"
   },
   "outputs": [
    {
     "name": "stdout",
     "output_type": "stream",
     "text": [
      "📂 Upload your .ipynb notebook now\n"
     ]
    },
    {
     "data": {
      "text/html": [
       "\n",
       "     <input type=\"file\" id=\"files-a6584dce-8eab-4d98-b19b-16ee9e9e1b85\" name=\"files[]\" multiple disabled\n",
       "        style=\"border:none\" />\n",
       "     <output id=\"result-a6584dce-8eab-4d98-b19b-16ee9e9e1b85\">\n",
       "      Upload widget is only available when the cell has been executed in the\n",
       "      current browser session. Please rerun this cell to enable.\n",
       "      </output>\n",
       "      <script>// Copyright 2017 Google LLC\n",
       "//\n",
       "// Licensed under the Apache License, Version 2.0 (the \"License\");\n",
       "// you may not use this file except in compliance with the License.\n",
       "// You may obtain a copy of the License at\n",
       "//\n",
       "//      http://www.apache.org/licenses/LICENSE-2.0\n",
       "//\n",
       "// Unless required by applicable law or agreed to in writing, software\n",
       "// distributed under the License is distributed on an \"AS IS\" BASIS,\n",
       "// WITHOUT WARRANTIES OR CONDITIONS OF ANY KIND, either express or implied.\n",
       "// See the License for the specific language governing permissions and\n",
       "// limitations under the License.\n",
       "\n",
       "/**\n",
       " * @fileoverview Helpers for google.colab Python module.\n",
       " */\n",
       "(function(scope) {\n",
       "function span(text, styleAttributes = {}) {\n",
       "  const element = document.createElement('span');\n",
       "  element.textContent = text;\n",
       "  for (const key of Object.keys(styleAttributes)) {\n",
       "    element.style[key] = styleAttributes[key];\n",
       "  }\n",
       "  return element;\n",
       "}\n",
       "\n",
       "// Max number of bytes which will be uploaded at a time.\n",
       "const MAX_PAYLOAD_SIZE = 100 * 1024;\n",
       "\n",
       "function _uploadFiles(inputId, outputId) {\n",
       "  const steps = uploadFilesStep(inputId, outputId);\n",
       "  const outputElement = document.getElementById(outputId);\n",
       "  // Cache steps on the outputElement to make it available for the next call\n",
       "  // to uploadFilesContinue from Python.\n",
       "  outputElement.steps = steps;\n",
       "\n",
       "  return _uploadFilesContinue(outputId);\n",
       "}\n",
       "\n",
       "// This is roughly an async generator (not supported in the browser yet),\n",
       "// where there are multiple asynchronous steps and the Python side is going\n",
       "// to poll for completion of each step.\n",
       "// This uses a Promise to block the python side on completion of each step,\n",
       "// then passes the result of the previous step as the input to the next step.\n",
       "function _uploadFilesContinue(outputId) {\n",
       "  const outputElement = document.getElementById(outputId);\n",
       "  const steps = outputElement.steps;\n",
       "\n",
       "  const next = steps.next(outputElement.lastPromiseValue);\n",
       "  return Promise.resolve(next.value.promise).then((value) => {\n",
       "    // Cache the last promise value to make it available to the next\n",
       "    // step of the generator.\n",
       "    outputElement.lastPromiseValue = value;\n",
       "    return next.value.response;\n",
       "  });\n",
       "}\n",
       "\n",
       "/**\n",
       " * Generator function which is called between each async step of the upload\n",
       " * process.\n",
       " * @param {string} inputId Element ID of the input file picker element.\n",
       " * @param {string} outputId Element ID of the output display.\n",
       " * @return {!Iterable<!Object>} Iterable of next steps.\n",
       " */\n",
       "function* uploadFilesStep(inputId, outputId) {\n",
       "  const inputElement = document.getElementById(inputId);\n",
       "  inputElement.disabled = false;\n",
       "\n",
       "  const outputElement = document.getElementById(outputId);\n",
       "  outputElement.innerHTML = '';\n",
       "\n",
       "  const pickedPromise = new Promise((resolve) => {\n",
       "    inputElement.addEventListener('change', (e) => {\n",
       "      resolve(e.target.files);\n",
       "    });\n",
       "  });\n",
       "\n",
       "  const cancel = document.createElement('button');\n",
       "  inputElement.parentElement.appendChild(cancel);\n",
       "  cancel.textContent = 'Cancel upload';\n",
       "  const cancelPromise = new Promise((resolve) => {\n",
       "    cancel.onclick = () => {\n",
       "      resolve(null);\n",
       "    };\n",
       "  });\n",
       "\n",
       "  // Wait for the user to pick the files.\n",
       "  const files = yield {\n",
       "    promise: Promise.race([pickedPromise, cancelPromise]),\n",
       "    response: {\n",
       "      action: 'starting',\n",
       "    }\n",
       "  };\n",
       "\n",
       "  cancel.remove();\n",
       "\n",
       "  // Disable the input element since further picks are not allowed.\n",
       "  inputElement.disabled = true;\n",
       "\n",
       "  if (!files) {\n",
       "    return {\n",
       "      response: {\n",
       "        action: 'complete',\n",
       "      }\n",
       "    };\n",
       "  }\n",
       "\n",
       "  for (const file of files) {\n",
       "    const li = document.createElement('li');\n",
       "    li.append(span(file.name, {fontWeight: 'bold'}));\n",
       "    li.append(span(\n",
       "        `(${file.type || 'n/a'}) - ${file.size} bytes, ` +\n",
       "        `last modified: ${\n",
       "            file.lastModifiedDate ? file.lastModifiedDate.toLocaleDateString() :\n",
       "                                    'n/a'} - `));\n",
       "    const percent = span('0% done');\n",
       "    li.appendChild(percent);\n",
       "\n",
       "    outputElement.appendChild(li);\n",
       "\n",
       "    const fileDataPromise = new Promise((resolve) => {\n",
       "      const reader = new FileReader();\n",
       "      reader.onload = (e) => {\n",
       "        resolve(e.target.result);\n",
       "      };\n",
       "      reader.readAsArrayBuffer(file);\n",
       "    });\n",
       "    // Wait for the data to be ready.\n",
       "    let fileData = yield {\n",
       "      promise: fileDataPromise,\n",
       "      response: {\n",
       "        action: 'continue',\n",
       "      }\n",
       "    };\n",
       "\n",
       "    // Use a chunked sending to avoid message size limits. See b/62115660.\n",
       "    let position = 0;\n",
       "    do {\n",
       "      const length = Math.min(fileData.byteLength - position, MAX_PAYLOAD_SIZE);\n",
       "      const chunk = new Uint8Array(fileData, position, length);\n",
       "      position += length;\n",
       "\n",
       "      const base64 = btoa(String.fromCharCode.apply(null, chunk));\n",
       "      yield {\n",
       "        response: {\n",
       "          action: 'append',\n",
       "          file: file.name,\n",
       "          data: base64,\n",
       "        },\n",
       "      };\n",
       "\n",
       "      let percentDone = fileData.byteLength === 0 ?\n",
       "          100 :\n",
       "          Math.round((position / fileData.byteLength) * 100);\n",
       "      percent.textContent = `${percentDone}% done`;\n",
       "\n",
       "    } while (position < fileData.byteLength);\n",
       "  }\n",
       "\n",
       "  // All done.\n",
       "  yield {\n",
       "    response: {\n",
       "      action: 'complete',\n",
       "    }\n",
       "  };\n",
       "}\n",
       "\n",
       "scope.google = scope.google || {};\n",
       "scope.google.colab = scope.google.colab || {};\n",
       "scope.google.colab._files = {\n",
       "  _uploadFiles,\n",
       "  _uploadFilesContinue,\n",
       "};\n",
       "})(self);\n",
       "</script> "
      ],
      "text/plain": [
       "<IPython.core.display.HTML object>"
      ]
     },
     "metadata": {},
     "output_type": "display_data"
    },
    {
     "name": "stdout",
     "output_type": "stream",
     "text": [
      "Saving ComicStripCraft_AI_Powered_Comic_Strip_Generator.ipynb to ComicStripCraft_AI_Powered_Comic_Strip_Generator.ipynb\n"
     ]
    }
   ],
   "source": [
    "from google.colab import files\n",
    "\n",
    "print(\"📂 Upload your .ipynb notebook now\")\n",
    "uploaded = files.upload()\n"
   ]
  },
  {
   "cell_type": "code",
   "execution_count": 53,
   "metadata": {
    "colab": {
     "base_uri": "https://localhost:8080/"
    },
    "id": "hCmwKuKDz5qk",
    "outputId": "ae2413e7-f787-43f7-fb8c-dcea2fd49ed6"
   },
   "outputs": [
    {
     "name": "stdout",
     "output_type": "stream",
     "text": [
      "✅ Cleaned notebook metadata. You can now upload it to GitHub.\n"
     ]
    }
   ],
   "source": [
    "import nbformat\n",
    "\n",
    "notebook_path = \"/content/ComicStripCraft_AI_Powered_Comic_Strip_Generator.ipynb\"\n",
    "\n",
    "with open(notebook_path, \"r\", encoding=\"utf-8\") as f:\n",
    "    nb = nbformat.read(f, as_version=4)\n",
    "\n",
    "# Remove widget metadata safely\n",
    "if \"widgets\" in nb.metadata:\n",
    "    del nb.metadata[\"widgets\"]\n",
    "\n",
    "# Save cleaned notebook\n",
    "with open(notebook_path, \"w\", encoding=\"utf-8\") as f:\n",
    "    nbformat.write(nb, f)\n",
    "\n",
    "print(\"✅ Cleaned notebook metadata. You can now upload it to GitHub.\")\n"
   ]
  }
 ],
 "metadata": {
  "accelerator": "GPU",
  "colab": {
   "gpuType": "T4",
   "provenance": []
  },
  "kernelspec": {
   "display_name": "Python 3",
   "name": "python3"
  },
  "language_info": {
   "name": "python"
  }
 },
 "nbformat": 4,
 "nbformat_minor": 0
}
